{
 "cells": [
  {
   "cell_type": "code",
   "execution_count": 1,
   "metadata": {},
   "outputs": [],
   "source": [
    "import emoji"
   ]
  },
  {
   "cell_type": "code",
   "execution_count": 46,
   "metadata": {},
   "outputs": [],
   "source": [
    "class Emoji_gen:\n",
    "    def __init__(self,text:str):\n",
    "        self.name = text\n",
    "        \n",
    "    def emo(self):\n",
    "        e = emoji.emojize(f':{self.name}:', use_aliases=True)\n",
    "        return e\n",
    "        "
   ]
  },
  {
   "cell_type": "code",
   "execution_count": 54,
   "metadata": {},
   "outputs": [],
   "source": [
    "emoji_name = ['computer','bulb','scroll','toolbox','dart','white_check_mark']"
   ]
  },
  {
   "cell_type": "code",
   "execution_count": 55,
   "metadata": {},
   "outputs": [
    {
     "data": {
      "text/plain": [
       "['💻', '💡', '📜', '🧰', '🎯', '✅']"
      ]
     },
     "execution_count": 55,
     "metadata": {},
     "output_type": "execute_result"
    }
   ],
   "source": [
    "[Emoji_gen(f'{i}').emo() for i in emoji_name]"
   ]
  },
  {
   "cell_type": "markdown",
   "metadata": {},
   "source": [
    "***"
   ]
  },
  {
   "cell_type": "markdown",
   "metadata": {},
   "source": [
    "<dl>\n",
    "<dd>💻 <strong>Tech</strong>: VBA </dd>\n",
    "    <br/>\n",
    "<dd> 💡 <strong>Concept</strong>: for loops </dd>\n",
    "    <br/>\n",
    "<dd> 🎯 <strong>Brief explaination</strong>: Repeatily execute define statements</dd>\n",
    "    <br/>\n",
    "<dd> 🧰 <strong>Use case</strong>: Data clean up </dd>\n",
    "    <br/>\n",
    "<dd> 📜 <strong>Examples</strong>:\n",
    "    <ol> ✅ Spell Check </ol>\n",
    "    <ol> ✅ Fixing dates and times </ol>\n",
    "    <ol> ✅ Changing the case of text </ol>\n",
    "</dd>\n",
    "</dl>"
   ]
  },
  {
   "cell_type": "markdown",
   "metadata": {},
   "source": [
    "**VBA Content**"
   ]
  },
  {
   "cell_type": "markdown",
   "metadata": {},
   "source": [
    "<img src=\"https://i2.wp.com/beatexcel.com/wp-content/uploads/2013/07/vba-logo.png?resize=572%2C217\" width=\"800\" height=\"600\"/>"
   ]
  },
  {
   "cell_type": "markdown",
   "metadata": {},
   "source": [
    "![SegmentLocal](module_1.gif \"segment\")"
   ]
  },
  {
   "cell_type": "markdown",
   "metadata": {},
   "source": [
    "***"
   ]
  },
  {
   "cell_type": "markdown",
   "metadata": {},
   "source": [
    "<div class=\"alert alert-block alert-info\"><b>Note:</b> Below is the VBA code executed in the Marco above.</div>"
   ]
  },
  {
   "cell_type": "markdown",
   "metadata": {},
   "source": [
    "```python\n",
    "\n",
    "Sub forLoop()\n",
    "\n",
    "    ' define variable datatypes\n",
    "    \n",
    "    Dim i As Integer\n",
    "    Dim msg1 As String\n",
    "    Dim msg2 As String\n",
    "    \n",
    "    ' assign variables\n",
    "    \n",
    "    msg1 = \"This code\"\n",
    "    msg2 = \"is on iteration\"\n",
    "    \n",
    "    ' iterate\n",
    "    \n",
    "        For i = 1 To 10\n",
    "            Cells(i, 1).Value = msg1 ' Row i, Column A\n",
    "            Cells(i, 2).Value = msg2 ' Row i, Column B\n",
    "            Cells(i, 3).Value = i    ' Row i, Column C\n",
    "            \n",
    "        Next i\n",
    "\n",
    "    ' align cell size\n",
    "    \n",
    "        \n",
    "    Range(\"A1\").Select\n",
    "    Range(Selection, Selection.End(xlDown)).Select\n",
    "    Range(Selection, Selection.End(xlToRight)).Select\n",
    "    Selection.Columns.AutoFit\n",
    "            \n",
    "    \n",
    "End Sub\n",
    "\n",
    "\n",
    "```"
   ]
  },
  {
   "cell_type": "markdown",
   "metadata": {},
   "source": [
    "***"
   ]
  },
  {
   "cell_type": "markdown",
   "metadata": {},
   "source": [
    "***"
   ]
  }
 ],
 "metadata": {
  "kernelspec": {
   "display_name": "fintech",
   "language": "python",
   "name": "fintech"
  },
  "language_info": {
   "codemirror_mode": {
    "name": "ipython",
    "version": 3
   },
   "file_extension": ".py",
   "mimetype": "text/x-python",
   "name": "python",
   "nbconvert_exporter": "python",
   "pygments_lexer": "ipython3",
   "version": "3.7.10"
  }
 },
 "nbformat": 4,
 "nbformat_minor": 4
}
