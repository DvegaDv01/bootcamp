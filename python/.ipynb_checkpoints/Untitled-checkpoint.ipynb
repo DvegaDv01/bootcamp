{
 "cells": [
  {
   "cell_type": "code",
   "execution_count": 12,
   "metadata": {},
   "outputs": [],
   "source": [
    "class Employee:\n",
    "    \n",
    "    def __init__(self, name, age, country, satisfied):\n",
    "        self.name = name\n",
    "        self.age = age\n",
    "        self.country = country\n",
    "\n",
    "        \n",
    "    def employee_file(self, hourly_wage, scheduled_hours, satisfied=True):\n",
    "        # create employee wage data\n",
    "        self.hourly_wage = hourly_wage\n",
    "        self.scheduled_hours = scheduled_hours\n",
    "        self.daily_wage = self.scheduled_hours * self.hourly_wage\n",
    "        \n",
    "        if satisfied==True:\n",
    "            self.satisfied = 'Yes!'\n",
    "        else:\n",
    "            self.satisfied = 'No!'\n",
    "        self.satisfied = self.satisfied\n",
    "        \n",
    "        return {'wage':self.hourly_wage, 'hours':self.scheduled_hours, 'pay':self.daily_wage, 'satisfaction':self.satisfied}\n",
    "        \n",
    "\n",
    "    def main():\n",
    "        \n",
    "        employee_profile = Employee('Ben', 28, 'United States', True)\n",
    "        personel = employee_profile.employee_file(60, 12, True)\n",
    "        emp_sentiment = personel['satisfaction']\n",
    "        message_1 = f'{employee_profile.name} is {employee_profile.age} years old and is from the {employee_profile.country}.'\n",
    "        message_2 = f\"{employee_profile.name} anserwed {emp_sentiment} when asked if they're satisfied with work.\"\n",
    "        info = f\"This is their pay information: \\nHourly wage: {personel['wage']}, \\nToday's pay: {personel['pay']}, \\nThis weeks scheduled hours: {personel['hours']}\"\n",
    "        \n",
    "        return print(f'{message_1}, \\n{message_2}, \\n{info}')"
   ]
  },
  {
   "cell_type": "code",
   "execution_count": 13,
   "metadata": {},
   "outputs": [
    {
     "name": "stdout",
     "output_type": "stream",
     "text": [
      "Ben is 28 years old and is from the United States., \n",
      "Ben anserwed Yes! when asked if they're satisfied with work., \n",
      "This is their pay information: \n",
      "Hourly wage: 60, \n",
      "Today's pay: 720, \n",
      "This weeks scheduled hours: 12\n"
     ]
    }
   ],
   "source": [
    "Employee.main()"
   ]
  },
  {
   "cell_type": "code",
   "execution_count": null,
   "metadata": {},
   "outputs": [],
   "source": []
  }
 ],
 "metadata": {
  "kernelspec": {
   "display_name": "torchcde",
   "language": "python",
   "name": "torchcde"
  },
  "language_info": {
   "codemirror_mode": {
    "name": "ipython",
    "version": 3
   },
   "file_extension": ".py",
   "mimetype": "text/x-python",
   "name": "python",
   "nbconvert_exporter": "python",
   "pygments_lexer": "ipython3",
   "version": "3.7.9"
  }
 },
 "nbformat": 4,
 "nbformat_minor": 4
}
