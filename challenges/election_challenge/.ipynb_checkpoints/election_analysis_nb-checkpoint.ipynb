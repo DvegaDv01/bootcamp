{
 "cells": [
  {
   "cell_type": "code",
   "execution_count": 1,
   "metadata": {},
   "outputs": [],
   "source": [
    "import pandas as pd"
   ]
  },
  {
   "cell_type": "code",
   "execution_count": 121,
   "metadata": {},
   "outputs": [],
   "source": [
    "def main():\n",
    "    df = pd.read_csv('election_results.csv')\n",
    "    total_votes = len(df.loc[:, 'Ballot ID'])\n",
    "    candidate_votes = {nm:len(df[(df.loc[:,'Candidate']==nm)]) for nm in df.loc[:,'Candidate'].unique()}\n",
    "    candidate_percentage = {i:round(candidate_votes[i]/total_votes,2) * 100 for i in candidate_votes}\n",
    "    vote_percentage = {i:f'received {round(candidate_votes[i]/total_votes,2) * 100}% of the vote' for i in candidate_votes}\n",
    "    winning_count = max(candidate_votes.values())\n",
    "    winning_percentage = max(candidate_percentage.values())\n",
    "    results = [f'{nm}: {candidate_percentage[nm]}% ({candidate_votes[nm]})' for nm in df.loc[:,'Candidate'].unique()]\n",
    "    \n",
    "    county_total = {nm:len(df[(df.loc[:,'County']==nm)]) for nm in df.loc[:,'County'].unique()}\n",
    "    county_pct = {i:round((county_total[i]/total_votes  * 100),2) for i in county_total}\n",
    "    winning_candidate = max(candidate_votes, key=candidate_votes.get)\n",
    "    winning_candidate_summary = [f'-------------------------\\n'\n",
    "        f'Winner: {winning_candidate}\\n'\n",
    "        f'Winning Vote Count: {winning_count:,}\\n'\n",
    "        f'Winning Percentage: {winning_percentage:.1f}%\\n'\n",
    "        f'-------------------------\\n']\n",
    "    election_results = [\n",
    "        f\"\\nElection Results\\n\"\n",
    "        f\"-------------------------\\n\"\n",
    "        f\"Total Votes: {total_votes:,}\\n\"\n",
    "        f\"-------------------------\\n\"]\n",
    "\n",
    "    for i in election_results:\n",
    "        print(i)\n",
    "\n",
    "    for i in county_total:\n",
    "        print(i)\n",
    "        \n",
    "    for i in results:\n",
    "        print(i)\n",
    "\n",
    "    for i in winning_candidate_summary:\n",
    "        print(i)\n",
    "    \n",
    "    return"
   ]
  },
  {
   "cell_type": "code",
   "execution_count": 122,
   "metadata": {},
   "outputs": [
    {
     "name": "stdout",
     "output_type": "stream",
     "text": [
      "\n",
      "Election Results\n",
      "-------------------------\n",
      "Total Votes: 369,711\n",
      "-------------------------\n",
      "\n",
      "Jefferson\n",
      "Denver\n",
      "Arapahoe\n",
      "Charles Casper Stockham: 23.0% (85213)\n",
      "Diana DeGette: 74.0% (272892)\n",
      "Raymon Anthony Doane: 3.0% (11606)\n",
      "-------------------------\n",
      "Winner: Diana DeGette\n",
      "Winning Vote Count: 272,892\n",
      "Winning Percentage: 74.0%\n",
      "-------------------------\n",
      "\n"
     ]
    }
   ],
   "source": [
    "main()"
   ]
  },
  {
   "cell_type": "code",
   "execution_count": null,
   "metadata": {},
   "outputs": [],
   "source": []
  },
  {
   "cell_type": "code",
   "execution_count": 124,
   "metadata": {},
   "outputs": [
    {
     "data": {
      "text/plain": [
       "{'Jefferson': 38855, 'Denver': 306055, 'Arapahoe': 24801}"
      ]
     },
     "execution_count": 124,
     "metadata": {},
     "output_type": "execute_result"
    }
   ],
   "source": [
    "    election_results = [\n",
    "        f\"\\nCounty Votes\\n\"\n",
    "        f\"Total Votes: {total_votes:,}\\n\"\n",
    "        f\"-------------------------\\n\"]"
   ]
  },
  {
   "cell_type": "code",
   "execution_count": null,
   "metadata": {},
   "outputs": [],
   "source": []
  }
 ],
 "metadata": {
  "kernelspec": {
   "display_name": "torchcde",
   "language": "python",
   "name": "torchcde"
  },
  "language_info": {
   "codemirror_mode": {
    "name": "ipython",
    "version": 3
   },
   "file_extension": ".py",
   "mimetype": "text/x-python",
   "name": "python",
   "nbconvert_exporter": "python",
   "pygments_lexer": "ipython3",
   "version": "3.7.9"
  }
 },
 "nbformat": 4,
 "nbformat_minor": 4
}
