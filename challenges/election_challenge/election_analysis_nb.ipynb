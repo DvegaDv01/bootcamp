{
 "cells": [
  {
   "cell_type": "code",
   "execution_count": 1,
   "metadata": {},
   "outputs": [],
   "source": [
    "import pandas as pd"
   ]
  },
  {
   "cell_type": "code",
   "execution_count": 157,
   "metadata": {},
   "outputs": [],
   "source": [
    "def main():\n",
    "    df = pd.read_csv('election_results.csv')\n",
    "    total_votes = len(df.loc[:, 'Ballot ID'])\n",
    "    candidate_votes = {nm:len(df[(df.loc[:,'Candidate']==nm)]) for nm in df.loc[:,'Candidate'].unique()}\n",
    "    candidate_percentage = {i:round(candidate_votes[i]/total_votes,2) * 100 for i in candidate_votes}\n",
    "    vote_percentage = {i:f'received {round(candidate_votes[i]/total_votes,2) * 100}% of the vote' for i in candidate_votes}\n",
    "    winning_count = max(candidate_votes.values())\n",
    "    winning_percentage = max(candidate_percentage.values())\n",
    "    results = [f'{nm}: {candidate_percentage[nm]}% ({candidate_votes[nm]})' for nm in df.loc[:,'Candidate'].unique()]\n",
    "    county_total = {nm:len(df[(df.loc[:,'County']==nm)]) for nm in df.loc[:,'County'].unique()}\n",
    "    county_pct = {i:round((county_total[i]/total_votes  * 100),2) for i in county_total}\n",
    "    winning_candidate = max(candidate_votes, key=candidate_votes.get)\n",
    "    msg1 = [f'-------------------------\\n'\n",
    "    f'Largest County Turnout: {max(county_total, key=county_total.get)}'\n",
    "    f'\\n-------------------------\\n']\n",
    "    winning_candidate_summary = [f'-------------------------\\n'\n",
    "        f'Winner: {winning_candidate}\\n'\n",
    "        f'Winning Vote Count: {winning_count:,}\\n'\n",
    "        f'Winning Percentage: {winning_percentage:.1f}%\\n'\n",
    "        f'-------------------------\\n']\n",
    "    election_results = [\n",
    "        f\"\\nElection Results\\n\"\n",
    "        f\"-------------------------\\n\"\n",
    "        f\"Total Votes: {total_votes:,}\\n\"\n",
    "        f\"-------------------------\\n\"]\n",
    "\n",
    "    for i in election_results:\n",
    "        print(i)\n",
    "    print('County votes:')    \n",
    "    for i in county_total:\n",
    "        print(f'{i}: {county_total[i]} ({county_pct[i]})\\n')\n",
    "        \n",
    "    for i in msg1:\n",
    "        print(i)\n",
    "        \n",
    "    for i in results:\n",
    "        print(i)\n",
    "\n",
    "    for i in winning_candidate_summary:\n",
    "        print(i)\n",
    "    \n",
    "    return"
   ]
  },
  {
   "cell_type": "code",
   "execution_count": 158,
   "metadata": {},
   "outputs": [
    {
     "name": "stdout",
     "output_type": "stream",
     "text": [
      "\n",
      "Election Results\n",
      "-------------------------\n",
      "Total Votes: 369,711\n",
      "-------------------------\n",
      "\n",
      "County votes:\n",
      "Jefferson: 38855 (10.51)\n",
      "\n",
      "Denver: 306055 (82.78)\n",
      "\n",
      "Arapahoe: 24801 (6.71)\n",
      "\n",
      "-------------------------\n",
      "Largest County Turnout: Denver\n",
      "-------------------------\n",
      "\n",
      "Charles Casper Stockham: 23.0% (85213)\n",
      "Diana DeGette: 74.0% (272892)\n",
      "Raymon Anthony Doane: 3.0% (11606)\n",
      "-------------------------\n",
      "Winner: Diana DeGette\n",
      "Winning Vote Count: 272,892\n",
      "Winning Percentage: 74.0%\n",
      "-------------------------\n",
      "\n"
     ]
    }
   ],
   "source": [
    "main()"
   ]
  },
  {
   "cell_type": "code",
   "execution_count": 141,
   "metadata": {},
   "outputs": [
    {
     "ename": "NameError",
     "evalue": "name 'county_pct' is not defined",
     "output_type": "error",
     "traceback": [
      "\u001b[0;31m---------------------------------------------------------------------------\u001b[0m",
      "\u001b[0;31mNameError\u001b[0m                                 Traceback (most recent call last)",
      "\u001b[0;32m<ipython-input-141-4abaeaa8f3c0>\u001b[0m in \u001b[0;36m<module>\u001b[0;34m\u001b[0m\n\u001b[1;32m      1\u001b[0m \u001b[0;32mfor\u001b[0m \u001b[0mi\u001b[0m \u001b[0;32min\u001b[0m \u001b[0mcounty_total\u001b[0m\u001b[0;34m:\u001b[0m\u001b[0;34m\u001b[0m\u001b[0;34m\u001b[0m\u001b[0m\n\u001b[0;32m----> 2\u001b[0;31m     \u001b[0mprint\u001b[0m\u001b[0;34m(\u001b[0m\u001b[0;34mf'{i}: {county_total[i]} ({county_pct[i]})\\n'\u001b[0m\u001b[0;34m)\u001b[0m\u001b[0;34m\u001b[0m\u001b[0;34m\u001b[0m\u001b[0m\n\u001b[0m",
      "\u001b[0;31mNameError\u001b[0m: name 'county_pct' is not defined"
     ]
    }
   ],
   "source": [
    "for i in county_total:\n",
    "    print(f'{i}: {county_total[i]} ({county_pct[i]})\\n')"
   ]
  },
  {
   "cell_type": "code",
   "execution_count": 146,
   "metadata": {},
   "outputs": [],
   "source": []
  },
  {
   "cell_type": "code",
   "execution_count": 147,
   "metadata": {},
   "outputs": [
    {
     "name": "stdout",
     "output_type": "stream",
     "text": [
      "-------------------------\n",
      "Largest County Turnout\n",
      "-------------------------\n",
      "\n"
     ]
    }
   ],
   "source": []
  },
  {
   "cell_type": "code",
   "execution_count": null,
   "metadata": {},
   "outputs": [],
   "source": []
  }
 ],
 "metadata": {
  "kernelspec": {
   "display_name": "torchcde",
   "language": "python",
   "name": "torchcde"
  },
  "language_info": {
   "codemirror_mode": {
    "name": "ipython",
    "version": 3
   },
   "file_extension": ".py",
   "mimetype": "text/x-python",
   "name": "python",
   "nbconvert_exporter": "python",
   "pygments_lexer": "ipython3",
   "version": "3.7.9"
  }
 },
 "nbformat": 4,
 "nbformat_minor": 4
}
